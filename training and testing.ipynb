{
 "cells": [
  {
   "cell_type": "code",
   "execution_count": 35,
   "metadata": {},
   "outputs": [],
   "source": [
    "%matplotlib inline\n",
    "from sklearn.datasets import load_iris\n",
    "from sklearn.neighbors import KNeighborsClassifier\n",
    "import matplotlib.pyplot as plt\n",
    "import numpy as np"
   ]
  },
  {
   "cell_type": "code",
   "execution_count": 23,
   "metadata": {},
   "outputs": [],
   "source": [
    "iris = load_iris()"
   ]
  },
  {
   "cell_type": "code",
   "execution_count": 24,
   "metadata": {},
   "outputs": [],
   "source": [
    "X,y = iris.data, iris.target \n",
    "clf = KNeighborsClassifier()"
   ]
  },
  {
   "cell_type": "code",
   "execution_count": 25,
   "metadata": {},
   "outputs": [
    {
     "name": "stdout",
     "output_type": "stream",
     "text": [
      "labels for training data and testing data\n",
      "[2 2 1 0 0 2 0 0 1 1 1 1 2 1 2 0 2 1 0 0 2 1 2 2 0 1 1 2 0 2 1 1 0 2 2 0 0\n",
      " 1 1 2 0 0 1 0 1 2 0 2 0 0 1 0 0 1 2 1 1 1 0 0 1 2 0 0 1 1 1 2 1 1 1 2 0 0\n",
      " 1 2 2 2 2 0 1 0 1 1 0 1 2 1 2 2 0 1 0 2 2 1 1 2 2 1 0 1 1 2 2]\n",
      "[1 2 2 1 0 2 1 0 0 1 2 0 1 2 2 2 0 0 1 0 0 2 0 2 0 0 0 2 2 0 2 2 0 0 1 1 2\n",
      " 0 0 1 1 0 2 2 2]\n"
     ]
    }
   ],
   "source": [
    "from sklearn.model_selection import train_test_split\n",
    "\n",
    "X_train, X_test, y_train, y_test = train_test_split(X,y,train_size = 0.7, test_size = 0.3, random_state = 123)\n",
    "\n",
    "print(\"labels for training data and testing data\")\n",
    "print(y_train)\n",
    "print(y_test)"
   ]
  },
  {
   "cell_type": "code",
   "execution_count": 26,
   "metadata": {},
   "outputs": [
    {
     "name": "stdout",
     "output_type": "stream",
     "text": [
      "in All  [33.33333333 33.33333333 33.33333333]\n",
      "in train  [30.47619048 38.0952381  31.42857143]\n",
      "in test  [40.         22.22222222 37.77777778]\n"
     ]
    }
   ],
   "source": [
    "# stratified split of data\n",
    "# it means that the train and test test classes split in the same proportions\n",
    "\n",
    "# initially classes divided as\n",
    "print(\"in All \",np.bincount(y)/float(len(y))*100)\n",
    "print(\"in train \",np.bincount(y_train)/float(len(y_train))*100)\n",
    "print(\"in test \",np.bincount(y_test)/float(len(y_test))*100)"
   ]
  },
  {
   "cell_type": "code",
   "execution_count": 27,
   "metadata": {},
   "outputs": [
    {
     "name": "stdout",
     "output_type": "stream",
     "text": [
      "in All  [33.33333333 33.33333333 33.33333333]\n",
      "in train  [33.33333333 33.33333333 33.33333333]\n",
      "in test  [33.33333333 33.33333333 33.33333333]\n"
     ]
    }
   ],
   "source": [
    "# after stratifying data\n",
    "X_train, X_test, y_train, y_test = train_test_split(X,y,train_size = 0.7, test_size = 0.3, random_state = 123,\n",
    "                                                   stratify=y)\n",
    "# finally classes divided as\n",
    "print(\"in All \",np.bincount(y)/float(len(y))*100)\n",
    "print(\"in train \",np.bincount(y_train)/float(len(y_train))*100)\n",
    "print(\"in test \",np.bincount(y_test)/float(len(y_test))*100)\n"
   ]
  },
  {
   "cell_type": "code",
   "execution_count": 31,
   "metadata": {},
   "outputs": [
    {
     "name": "stdout",
     "output_type": "stream",
     "text": [
      "Fraction Correct [Accuracy]:\n",
      "0.9555555555555556\n"
     ]
    }
   ],
   "source": [
    "#now fit the classifier\n",
    "clf.fit(X_train, y_train)\n",
    "pred_y = clf.predict(X_test)\n",
    "\n",
    "print(\"Fraction Correct [Accuracy]:\")\n",
    "print(np.sum(pred_y == y_test) / float(len(y_test)))"
   ]
  },
  {
   "cell_type": "code",
   "execution_count": 34,
   "metadata": {},
   "outputs": [
    {
     "name": "stdout",
     "output_type": "stream",
     "text": [
      "samples correctly predicted :\n",
      "[ 1  2  3  4  5  6  7  8  9 10 11 12 13 14 15 16 17 18 19 20 21 22 23 24\n",
      " 25 26 27 28 29 30 31 32 33 34 35 36 38 39 40 41 42 43 44]\n",
      "samples not correctly classified : \n",
      "[ 0 37]\n"
     ]
    }
   ],
   "source": [
    "print(\"samples correctly predicted :\")\n",
    "correct_x = np.where(y_test == pred_y)[0]\n",
    "print(correct_x)\n",
    "\n",
    "print(\"samples not correctly classified : \")\n",
    "incorrect_x = np.where(y_test != pred_y)[0]\n",
    "print(incorrect_x)"
   ]
  },
  {
   "cell_type": "code",
   "execution_count": 39,
   "metadata": {},
   "outputs": [
    {
     "data": {
      "image/png": "[encoded data removed]",
      "text/plain": [
       "<matplotlib.figure.Figure at 0x7fd509acac50>"
      ]
     },
     "metadata": {},
     "output_type": "display_data"
    }
   ],
   "source": [
    "colors = ['darkblue','darkgreen','blue']\n",
    "\n",
    "#plot the correctly classified points\n",
    "for n,color in enumerate(colors):\n",
    "    idx = np.where(y_test == n)[0]\n",
    "    plt.scatter(X_test[idx,1],X_test[idx,2], color = color, label = \"Class %s\" % str(n))\n",
    "    \n",
    "#plot the wrongly classified points    \n",
    "plt.scatter(X_test[incorrect_x,1], X_test[incorrect_x,2], color = \"darkred\")\n",
    "\n",
    "plt.xlabel(\"sepal width (in cm)\")\n",
    "plt.ylabel(\"petal length (in cm)\")\n",
    "plt.legend(loc=3)\n",
    "plt.title(\"Iris classification result\")\n",
    "plt.show()"
   ]
  },
  {
   "cell_type": "code",
   "execution_count": null,
   "metadata": {},
   "outputs": [],
   "source": []
  }
 ],
 "metadata": {
  "kernelspec": {
   "display_name": "Python 3",
   "language": "python",
   "name": "python3"
  },
  "language_info": {
   "codemirror_mode": {
    "name": "ipython",
    "version": 3
   },
   "file_extension": ".py",
   "mimetype": "text/x-python",
   "name": "python",
   "nbconvert_exporter": "python",
   "pygments_lexer": "ipython3",
   "version": "3.5.2"
  }
 },
 "nbformat": 4,
 "nbformat_minor": 2
}
